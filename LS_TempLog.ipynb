{
 "cells": [
  {
   "cell_type": "code",
   "execution_count": null,
   "id": "eb8ccfd0",
   "metadata": {},
   "outputs": [
    {
     "name": "stdout",
     "output_type": "stream",
     "text": [
      "Connected to: None lakeshore_372 (serial:None, firmware:None) in 0.05s\n"
     ]
    }
   ],
   "source": [
    "%matplotlib inline\n",
    "import os\n",
    "\n",
    "import matplotlib.pyplot as plt\n",
    "import numpy as np\n",
    "import qcodes as qc\n",
    "from qcodes import (\n",
    "    Measurement,\n",
    "    experiments,\n",
    "    initialise_database,\n",
    "    initialise_or_create_database_at,\n",
    "    load_by_guid,\n",
    "    load_by_run_spec,\n",
    "    load_experiment,\n",
    "    load_last_experiment,\n",
    "    load_or_create_experiment,\n",
    "    new_experiment,\n",
    ")\n",
    "from qcodes.dataset.plotting import plot_dataset\n",
    "from qcodes.logger.logger import start_all_logging\n",
    "from qcodes.tests.instrument_mocks import DummyInstrument, DummyInstrumentWithMeasurement\n",
    "import time\n",
    "import sys\n",
    "import csv\n",
    "\n",
    "simulation = True\n",
    "\n",
    "def main():\n",
    "\n",
    "    #logName = sys.argv[1]\n",
    "    logName = \"TempLog1.csv\"\n",
    "    #t_bt = sys.argv[2]\n",
    "    t_bt = 10\n",
    "    \n",
    "    if simulation:\n",
    "        from qcodes.tests.drivers.test_lakeshore import Model_372_Mock as Model_372\n",
    "        import qcodes.instrument.sims as sims\n",
    "        visalib = sims.__file__.replace('__init__.py',\n",
    "                                    'lakeshore_model372.yaml@sim')\n",
    "        ls = Model_372('lakeshore_372', 'GPIB::3::65535::INSTR',\n",
    "                    visalib=visalib, device_clear=False)\n",
    "    else:\n",
    "        from qcodes.instrument_drivers.Lakeshore.Model_372 import Model_372\n",
    "        #                               put visa address here, see e.g. NI Max\n",
    "        #                               or look up the IP address on \n",
    "        #                               the instrument itself\n",
    "        ls = Model_372('lakeshore_372', 'TCPIP::192.168.0.160::7777::SOCKET')\n",
    "    \n",
    "    \n",
    "    while 1==1:\n",
    "        with open(logName, 'a') as log:\n",
    "            writer = csv.writer(log)\n",
    "            writer.writerows([[time.strftime('%m-%d-%Y %H:%M:%S'), ls.ch01.temperature(), ls.ch02.temperature(), ls.ch03.temperature(), ls.ch04.temperature()]])\n",
    "            time.sleep(t_bt)\n",
    "\n",
    "if __name__ == \"__main__\":\n",
    "    main()"
   ]
  },
  {
   "cell_type": "code",
   "execution_count": null,
   "id": "a62ac7a7",
   "metadata": {},
   "outputs": [],
   "source": []
  }
 ],
 "metadata": {
  "kernelspec": {
   "display_name": "Python 3",
   "language": "python",
   "name": "python3"
  },
  "language_info": {
   "codemirror_mode": {
    "name": "ipython",
    "version": 3
   },
   "file_extension": ".py",
   "mimetype": "text/x-python",
   "name": "python",
   "nbconvert_exporter": "python",
   "pygments_lexer": "ipython3",
   "version": "3.9.2"
  }
 },
 "nbformat": 4,
 "nbformat_minor": 5
}
